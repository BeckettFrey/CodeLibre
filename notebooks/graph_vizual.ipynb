{
 "cells": [
  {
   "cell_type": "code",
   "execution_count": null,
   "id": "43e1d203-c9be-4074-b79d-eb2fec43cc5a",
   "metadata": {},
   "outputs": [
    {
     "data": {
      "image/png": "[encoded data removed]",
      "text/plain": [
       "<IPython.core.display.Image object>"
      ]
     },
     "metadata": {},
     "output_type": "display_data"
    }
   ],
   "source": [
    "from IPython.display import Image, display\n",
    "from codelibre.graph import create_stateless_chat\n",
    "\n",
    "def visualize_graph(graph):\n",
    "    try:\n",
    "        display(Image(graph.get_graph().draw_mermaid_png()))\n",
    "    except Exception as e:\n",
    "        print(f\"Error drawing graph: {e}\")\n",
    "\n",
    "graph = create_stateless_chat()\n",
    "visualize_graph(graph)"
   ]
  },
  {
   "cell_type": "code",
   "execution_count": 1,
   "id": "f3d38ecc",
   "metadata": {},
   "outputs": [
    {
     "name": "stdout",
     "output_type": "stream",
     "text": [
      "Streaming updates from the graph...\n",
      "\n",
      "Assistant: CHUNK: ''\n",
      "CHUNK: 'Turn'\n",
      "CHUNK: ' every'\n",
      "CHUNK: ' set'\n",
      "CHUNK: 'back into a comeback '\n",
      "CHUNK: '✨'\n",
      "CHUNK: ''\n",
      "Turn every setback into a comeback ✨\n"
     ]
    }
   ],
   "source": [
    "from codelibre.graph import create_stateless_chat\n",
    "from codelibre.graph import stream_graph_updates\n",
    "from codelibre.graph.state import ChatState\n",
    "\n",
    "graph = create_stateless_chat()\n",
    "\n",
    "chat_state = ChatState(current_message=\"something negative -> something positive\")\n",
    "\n",
    "stream_graph_updates(graph, chat_state)"
   ]
  }
 ],
 "metadata": {
  "kernelspec": {
   "display_name": "venv",
   "language": "python",
   "name": "python3"
  },
  "language_info": {
   "codemirror_mode": {
    "name": "ipython",
    "version": 3
   },
   "file_extension": ".py",
   "mimetype": "text/x-python",
   "name": "python",
   "nbconvert_exporter": "python",
   "pygments_lexer": "ipython3",
   "version": "3.13.2"
  }
 },
 "nbformat": 4,
 "nbformat_minor": 5
}
